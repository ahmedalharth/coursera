{
 "cells": [
  {
   "cell_type": "markdown",
   "id": "877488b6-655f-4bfd-a7c5-42ea173baf24",
   "metadata": {},
   "source": [
    "My Jupyter Notebook on IBM  Watson Studio"
   ]
  },
  {
   "cell_type": "markdown",
   "id": "0b984937-8fcb-4025-a283-d2e1fabf72b3",
   "metadata": {},
   "source": [
    "<h2> Ahmed Elharith Osama</h2>\n",
    "I want to be a data scientist "
   ]
  },
  {
   "cell_type": "markdown",
   "id": "12f599ab-c76a-4c6c-b598-746462d4766a",
   "metadata": {},
   "source": [
    "<i> I want to be a data scientist because I love statistic and analysis </i>"
   ]
  },
  {
   "cell_type": "markdown",
   "id": "3c27c8da-84ac-4b5a-a922-14e43fd0bf66",
   "metadata": {},
   "source": [
    "<h3> This code sums tow numbers </h3>"
   ]
  },
  {
   "cell_type": "code",
   "execution_count": 1,
   "id": "2601d11a-6bee-4c08-8bd4-fe8122be005a",
   "metadata": {},
   "outputs": [
    {
     "name": "stdout",
     "output_type": "stream",
     "text": [
      "3\n"
     ]
    }
   ],
   "source": [
    "x = 1 + 2 \n",
    "print(x)"
   ]
  },
  {
   "cell_type": "code",
   "execution_count": null,
   "id": "8b28ee09-fabc-4195-8914-be86a7d85d7c",
   "metadata": {},
   "outputs": [],
   "source": []
  }
 ],
 "metadata": {
  "kernelspec": {
   "display_name": "Python",
   "language": "python",
   "name": "conda-env-python-py"
  },
  "language_info": {
   "codemirror_mode": {
    "name": "ipython",
    "version": 3
   },
   "file_extension": ".py",
   "mimetype": "text/x-python",
   "name": "python",
   "nbconvert_exporter": "python",
   "pygments_lexer": "ipython3",
   "version": "3.7.12"
  }
 },
 "nbformat": 4,
 "nbformat_minor": 5
}
